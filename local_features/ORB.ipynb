{
 "cells": [
  {
   "cell_type": "code",
   "execution_count": 1,
   "id": "2cdd9b6b",
   "metadata": {},
   "outputs": [],
   "source": [
    "import os\n",
    "import cv2\n",
    "import numpy as np\n",
    "from tqdm import tqdm\n",
    "from sklearn.cluster import KMeans\n",
    "from sklearn.model_selection import train_test_split, GridSearchCV\n",
    "from sklearn.preprocessing import StandardScaler, LabelEncoder\n",
    "from sklearn.metrics import accuracy_score\n",
    "from sklearn.svm import SVC\n",
    "from sklearn.ensemble import RandomForestClassifier\n",
    "from xgboost import XGBClassifier\n",
    "from torchvision import datasets, transforms\n",
    "from PIL import Image"
   ]
  },
  {
   "cell_type": "code",
   "execution_count": 2,
   "id": "4f71588d",
   "metadata": {},
   "outputs": [],
   "source": [
    "# --- Configuration ---\n",
    "VOCAB_SIZE = 500\n",
    "MAX_PER_CLASS = 50"
   ]
  },
  {
   "cell_type": "code",
   "execution_count": 4,
   "id": "4d63a278",
   "metadata": {},
   "outputs": [],
   "source": [
    "def load_caltech101(path='../data/101_ObjectCategories', max_per_class=MAX_PER_CLASS):\n",
    "    images, labels = [], []\n",
    "    class_names = sorted([d for d in os.listdir(path) if os.path.isdir(os.path.join(path, d)) and not d.startswith(\"BACKGROUND\")])\n",
    "    for label in class_names:\n",
    "        img_dir = os.path.join(path, label)\n",
    "        count = 0\n",
    "        for file in os.listdir(img_dir):\n",
    "            if count >= max_per_class:\n",
    "                break\n",
    "            img_path = os.path.join(img_dir, file)\n",
    "            img = cv2.imread(img_path, cv2.IMREAD_GRAYSCALE)\n",
    "            if img is not None:\n",
    "                images.append(img)\n",
    "                labels.append(label)\n",
    "                count += 1\n",
    "    return images, labels\n",
    "\n",
    "def load_cifar10(limit=1000):\n",
    "    transform = transforms.Compose([\n",
    "        transforms.Grayscale(),\n",
    "        transforms.ToTensor()\n",
    "    ])\n",
    "    dataset = datasets.CIFAR10(root='../data', train=True, download=True, transform=transform)\n",
    "    images, labels = [], []\n",
    "    for i in range(min(limit, len(dataset))):\n",
    "        img_tensor, label = dataset[i]\n",
    "        img = transforms.ToPILImage()(img_tensor).convert('L')\n",
    "        images.append(np.array(img))\n",
    "        labels.append(dataset.classes[label])\n",
    "    return images, labels"
   ]
  },
  {
   "cell_type": "code",
   "execution_count": 5,
   "id": "b149b2f4",
   "metadata": {},
   "outputs": [],
   "source": [
    "def extract_orb_descriptors(images):\n",
    "    orb = cv2.ORB_create(nfeatures=1000)\n",
    "    descriptor_list = []\n",
    "    image_descriptors = []\n",
    "    for img in tqdm(images, desc=\"Extracting ORB\"):\n",
    "        kp, des = orb.detectAndCompute(img, None)\n",
    "        if des is not None:\n",
    "            descriptor_list.extend(des.astype(np.float32))\n",
    "            image_descriptors.append(des.astype(np.float32))\n",
    "        else:\n",
    "            image_descriptors.append(np.array([]))\n",
    "    return descriptor_list, image_descriptors\n",
    "\n",
    "def build_vocabulary(descriptor_list, k=VOCAB_SIZE):\n",
    "    all_descriptors = np.vstack(descriptor_list)\n",
    "    kmeans = KMeans(n_clusters=k, random_state=42)\n",
    "    kmeans.fit(all_descriptors)\n",
    "    return kmeans\n",
    "\n",
    "def compute_bovw(image_descriptors, kmeans):\n",
    "    k = kmeans.n_clusters\n",
    "    features = []\n",
    "    for des in image_descriptors:\n",
    "        hist = np.zeros(k)\n",
    "        if des is not None and len(des) > 0:\n",
    "            words = kmeans.predict(des)\n",
    "            for w in words:\n",
    "                hist[w] += 1\n",
    "        features.append(hist)\n",
    "    return np.array(features)"
   ]
  },
  {
   "cell_type": "code",
   "execution_count": 6,
   "id": "ca55d621",
   "metadata": {},
   "outputs": [],
   "source": [
    "def train_orb_pipeline(dataset_name, k=500):\n",
    "    print(f\"\\nRunning ORB pipeline for: {dataset_name}\")\n",
    "    if dataset_name == 'caltech101':\n",
    "        images, labels = load_caltech101()\n",
    "    elif dataset_name == 'cifar10':\n",
    "        images, labels = load_cifar10()\n",
    "    else:\n",
    "        raise ValueError(\"Unsupported dataset\")\n",
    "\n",
    "    le = LabelEncoder()\n",
    "    labels = le.fit_transform(labels)\n",
    "\n",
    "    descriptor_list, image_descriptors = extract_orb_descriptors(images)\n",
    "    kmeans = build_vocabulary(descriptor_list, k=k)\n",
    "    bovw = compute_bovw(image_descriptors, kmeans)\n",
    "\n",
    "    scaler = StandardScaler()\n",
    "    X = scaler.fit_transform(bovw)\n",
    "    y = labels\n",
    "\n",
    "    X_train, X_test, y_train, y_test = train_test_split(X, y, test_size=0.2, random_state=42)\n",
    "\n",
    "    models = {\n",
    "        \"SVC\": (SVC(), {\n",
    "            'C': [1, 5],\n",
    "            'gamma': ['scale', 'auto'],\n",
    "            'kernel': ['rbf']\n",
    "        }),\n",
    "        \"RandomForest\": (RandomForestClassifier(random_state=42), {\n",
    "            'n_estimators': [100, 200],\n",
    "            'max_depth': [None, 10]\n",
    "        }),\n",
    "        \"XGBoost\": (XGBClassifier(eval_metric='mlogloss', verbosity=0, random_state=42), {\n",
    "            'n_estimators': [100, 200],\n",
    "            'max_depth': [3, 6],\n",
    "            'learning_rate': [0.1, 0.01]\n",
    "        })\n",
    "    }\n",
    "\n",
    "    for name, (model, param_grid) in models.items():\n",
    "        print(f\"\\n🔍 Tuning {name} with GridSearchCV...\")\n",
    "        grid = GridSearchCV(model, param_grid, cv=3, scoring='accuracy', verbose=0)\n",
    "        grid.fit(X_train, y_train)\n",
    "        best_model = grid.best_estimator_\n",
    "        preds = best_model.predict(X_test)\n",
    "        acc = accuracy_score(y_test, preds)\n",
    "        print(f\"{name} Accuracy: {acc * 100:.2f}%\")\n",
    "        print(f\"Best Params: {grid.best_params_}\")"
   ]
  },
  {
   "cell_type": "code",
   "execution_count": 7,
   "id": "7b1d7d32",
   "metadata": {},
   "outputs": [
    {
     "name": "stdout",
     "output_type": "stream",
     "text": [
      "\n",
      "Running ORB pipeline for: caltech101\n"
     ]
    },
    {
     "name": "stderr",
     "output_type": "stream",
     "text": [
      "Extracting ORB: 100%|██████████| 4722/4722 [00:07<00:00, 656.16it/s]\n"
     ]
    },
    {
     "name": "stdout",
     "output_type": "stream",
     "text": [
      "\n",
      "🔍 Tuning SVC with GridSearchCV...\n",
      "SVC Accuracy: 22.01%\n",
      "Best Params: {'C': 5, 'gamma': 'scale', 'kernel': 'rbf'}\n",
      "\n",
      "🔍 Tuning RandomForest with GridSearchCV...\n",
      "RandomForest Accuracy: 16.51%\n",
      "Best Params: {'max_depth': None, 'n_estimators': 200}\n",
      "\n",
      "🔍 Tuning XGBoost with GridSearchCV...\n",
      "XGBoost Accuracy: 17.14%\n",
      "Best Params: {'learning_rate': 0.1, 'max_depth': 6, 'n_estimators': 200}\n"
     ]
    }
   ],
   "source": [
    "train_orb_pipeline('caltech101', k=100)"
   ]
  },
  {
   "cell_type": "code",
   "execution_count": 8,
   "id": "402b4a03",
   "metadata": {},
   "outputs": [
    {
     "name": "stdout",
     "output_type": "stream",
     "text": [
      "\n",
      "Running ORB pipeline for: caltech101\n"
     ]
    },
    {
     "name": "stderr",
     "output_type": "stream",
     "text": [
      "Extracting ORB: 100%|██████████| 4722/4722 [00:07<00:00, 610.91it/s]\n"
     ]
    },
    {
     "name": "stdout",
     "output_type": "stream",
     "text": [
      "\n",
      "🔍 Tuning SVC with GridSearchCV...\n",
      "SVC Accuracy: 23.07%\n",
      "Best Params: {'C': 5, 'gamma': 'scale', 'kernel': 'rbf'}\n",
      "\n",
      "🔍 Tuning RandomForest with GridSearchCV...\n",
      "RandomForest Accuracy: 15.24%\n",
      "Best Params: {'max_depth': None, 'n_estimators': 200}\n",
      "\n",
      "🔍 Tuning XGBoost with GridSearchCV...\n",
      "XGBoost Accuracy: 16.51%\n",
      "Best Params: {'learning_rate': 0.1, 'max_depth': 3, 'n_estimators': 200}\n"
     ]
    }
   ],
   "source": [
    "train_orb_pipeline('caltech101', k=300)"
   ]
  },
  {
   "cell_type": "code",
   "execution_count": null,
   "id": "7b051df0",
   "metadata": {},
   "outputs": [
    {
     "name": "stdout",
     "output_type": "stream",
     "text": [
      "\n",
      "Running ORB pipeline for: cifar10\n"
     ]
    },
    {
     "name": "stderr",
     "output_type": "stream",
     "text": [
      "Extracting ORB: 100%|██████████| 1000/1000 [00:00<00:00, 21588.08it/s]\n"
     ]
    },
    {
     "ename": "ValueError",
     "evalue": "need at least one array to concatenate",
     "output_type": "error",
     "traceback": [
      "\u001b[31m---------------------------------------------------------------------------\u001b[39m",
      "\u001b[31mValueError\u001b[39m                                Traceback (most recent call last)",
      "\u001b[36mCell\u001b[39m\u001b[36m \u001b[39m\u001b[32mIn[10]\u001b[39m\u001b[32m, line 1\u001b[39m\n\u001b[32m----> \u001b[39m\u001b[32m1\u001b[39m \u001b[43mtrain_orb_pipeline\u001b[49m\u001b[43m(\u001b[49m\u001b[33;43m'\u001b[39;49m\u001b[33;43mcifar10\u001b[39;49m\u001b[33;43m'\u001b[39;49m\u001b[43m)\u001b[49m\n",
      "\u001b[36mCell\u001b[39m\u001b[36m \u001b[39m\u001b[32mIn[8]\u001b[39m\u001b[32m, line 14\u001b[39m, in \u001b[36mtrain_orb_pipeline\u001b[39m\u001b[34m(dataset_name, k)\u001b[39m\n\u001b[32m     11\u001b[39m labels = le.fit_transform(labels)\n\u001b[32m     13\u001b[39m descriptor_list, image_descriptors = extract_orb_descriptors(images)\n\u001b[32m---> \u001b[39m\u001b[32m14\u001b[39m kmeans = \u001b[43mbuild_vocabulary\u001b[49m\u001b[43m(\u001b[49m\u001b[43mdescriptor_list\u001b[49m\u001b[43m,\u001b[49m\u001b[43m \u001b[49m\u001b[43mk\u001b[49m\u001b[43m=\u001b[49m\u001b[43mk\u001b[49m\u001b[43m)\u001b[49m\n\u001b[32m     15\u001b[39m bovw = compute_bovw(image_descriptors, kmeans)\n\u001b[32m     17\u001b[39m scaler = StandardScaler()\n",
      "\u001b[36mCell\u001b[39m\u001b[36m \u001b[39m\u001b[32mIn[4]\u001b[39m\u001b[32m, line 15\u001b[39m, in \u001b[36mbuild_vocabulary\u001b[39m\u001b[34m(descriptor_list, k)\u001b[39m\n\u001b[32m     14\u001b[39m \u001b[38;5;28;01mdef\u001b[39;00m\u001b[38;5;250m \u001b[39m\u001b[34mbuild_vocabulary\u001b[39m(descriptor_list, k=VOCAB_SIZE):\n\u001b[32m---> \u001b[39m\u001b[32m15\u001b[39m     all_descriptors = \u001b[43mnp\u001b[49m\u001b[43m.\u001b[49m\u001b[43mvstack\u001b[49m\u001b[43m(\u001b[49m\u001b[43mdescriptor_list\u001b[49m\u001b[43m)\u001b[49m\n\u001b[32m     16\u001b[39m     kmeans = KMeans(n_clusters=k, random_state=\u001b[32m42\u001b[39m)\n\u001b[32m     17\u001b[39m     kmeans.fit(all_descriptors)\n",
      "\u001b[36mFile \u001b[39m\u001b[32m~/Documents/University of Manchester/Computer Vision/Assignment/venv/lib/python3.11/site-packages/numpy/_core/shape_base.py:292\u001b[39m, in \u001b[36mvstack\u001b[39m\u001b[34m(tup, dtype, casting)\u001b[39m\n\u001b[32m    290\u001b[39m \u001b[38;5;28;01mif\u001b[39;00m \u001b[38;5;129;01mnot\u001b[39;00m \u001b[38;5;28misinstance\u001b[39m(arrs, \u001b[38;5;28mtuple\u001b[39m):\n\u001b[32m    291\u001b[39m     arrs = (arrs,)\n\u001b[32m--> \u001b[39m\u001b[32m292\u001b[39m \u001b[38;5;28;01mreturn\u001b[39;00m \u001b[43m_nx\u001b[49m\u001b[43m.\u001b[49m\u001b[43mconcatenate\u001b[49m\u001b[43m(\u001b[49m\u001b[43marrs\u001b[49m\u001b[43m,\u001b[49m\u001b[43m \u001b[49m\u001b[32;43m0\u001b[39;49m\u001b[43m,\u001b[49m\u001b[43m \u001b[49m\u001b[43mdtype\u001b[49m\u001b[43m=\u001b[49m\u001b[43mdtype\u001b[49m\u001b[43m,\u001b[49m\u001b[43m \u001b[49m\u001b[43mcasting\u001b[49m\u001b[43m=\u001b[49m\u001b[43mcasting\u001b[49m\u001b[43m)\u001b[49m\n",
      "\u001b[31mValueError\u001b[39m: need at least one array to concatenate"
     ]
    }
   ],
   "source": [
    "train_orb_pipeline('cifar10', k=100)"
   ]
  }
 ],
 "metadata": {
  "kernelspec": {
   "display_name": "venv",
   "language": "python",
   "name": "python3"
  },
  "language_info": {
   "codemirror_mode": {
    "name": "ipython",
    "version": 3
   },
   "file_extension": ".py",
   "mimetype": "text/x-python",
   "name": "python",
   "nbconvert_exporter": "python",
   "pygments_lexer": "ipython3",
   "version": "3.11.0"
  }
 },
 "nbformat": 4,
 "nbformat_minor": 5
}
