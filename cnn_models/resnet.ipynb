{
 "cells": [
  {
   "cell_type": "code",
   "execution_count": null,
   "id": "cc28dda3",
   "metadata": {},
   "outputs": [],
   "source": [
    "import os\n",
    "import torch\n",
    "import torch.nn as nn\n",
    "import torch.optim as optim\n",
    "from torchvision import datasets, models, transforms\n",
    "from torch.utils.data import DataLoader, random_split\n",
    "import matplotlib.pyplot as plt"
   ]
  },
  {
   "cell_type": "code",
   "execution_count": null,
   "id": "84376632",
   "metadata": {},
   "outputs": [],
   "source": [
    "# Config\n",
    "DATASET_PATH = '../data/101_ObjectCategories'\n",
    "BATCH_SIZE = 32\n",
    "EPOCHS = 10\n",
    "LR = 1e-3\n",
    "IMG_SIZE = 224\n",
    "DEVICE = torch.device('cuda' if torch.cuda.is_available() else 'cpu')"
   ]
  },
  {
   "cell_type": "code",
   "execution_count": null,
   "id": "7b2686e1",
   "metadata": {},
   "outputs": [],
   "source": [
    "# Transforms\n",
    "transform = transforms.Compose([\n",
    "    transforms.Resize((IMG_SIZE, IMG_SIZE)),\n",
    "    transforms.RandomHorizontalFlip(),\n",
    "    transforms.ToTensor(),\n",
    "    transforms.Normalize([0.5]*3, [0.5]*3)\n",
    "])"
   ]
  },
  {
   "cell_type": "code",
   "execution_count": null,
   "id": "cac8d7cc",
   "metadata": {},
   "outputs": [],
   "source": [
    "# Dataset (using ImageFolder structure)\n",
    "full_dataset = datasets.ImageFolder(DATASET_PATH, transform=transform)\n",
    "\n",
    "# Train/Test split\n",
    "train_size = int(0.8 * len(full_dataset))\n",
    "test_size = len(full_dataset) - train_size\n",
    "train_dataset, test_dataset = random_split(full_dataset, [train_size, test_size])\n",
    "\n",
    "train_loader = DataLoader(train_dataset, batch_size=BATCH_SIZE, shuffle=True)\n",
    "test_loader = DataLoader(test_dataset, batch_size=BATCH_SIZE)"
   ]
  },
  {
   "cell_type": "code",
   "execution_count": null,
   "id": "4e6d6f8f",
   "metadata": {},
   "outputs": [],
   "source": [
    "# Load pretrained ResNet18\n",
    "model = models.resnet18(pretrained=True)\n",
    "for param in model.parameters():\n",
    "    param.requires_grad = False  # freeze all layers\n",
    "\n",
    "# Replace the final classification layer\n",
    "# num_classes = len(full_dataset.dataset.classes)\n",
    "num_classes = len(full_dataset.classes)\n",
    "model.fc = nn.Linear(model.fc.in_features, num_classes)"
   ]
  },
  {
   "cell_type": "code",
   "execution_count": null,
   "id": "07bf335e",
   "metadata": {},
   "outputs": [],
   "source": [
    "model = model.to(DEVICE)\n",
    "\n",
    "# Loss & Optimizer\n",
    "criterion = nn.CrossEntropyLoss()\n",
    "optimizer = optim.Adam(model.fc.parameters(), lr=LR)"
   ]
  },
  {
   "cell_type": "code",
   "execution_count": null,
   "id": "52228cfc",
   "metadata": {},
   "outputs": [],
   "source": [
    "# Training loop\n",
    "def train_model(model, loader):\n",
    "    model.train()\n",
    "    for epoch in range(EPOCHS):\n",
    "        running_loss = 0\n",
    "        correct = 0\n",
    "        for images, labels in loader:\n",
    "            images, labels = images.to(DEVICE), labels.to(DEVICE)\n",
    "\n",
    "            optimizer.zero_grad()\n",
    "            outputs = model(images)\n",
    "            loss = criterion(outputs, labels)\n",
    "            loss.backward()\n",
    "            optimizer.step()\n",
    "\n",
    "            running_loss += loss.item()\n",
    "            _, preds = torch.max(outputs, 1)\n",
    "            correct += (preds == labels).sum().item()\n",
    "\n",
    "        acc = correct / len(loader.dataset) * 100\n",
    "        print(f\"Epoch [{epoch+1}/{EPOCHS}] Loss: {running_loss:.2f} | Train Acc: {acc:.2f}%\")\n"
   ]
  },
  {
   "cell_type": "code",
   "execution_count": null,
   "id": "253ef252",
   "metadata": {},
   "outputs": [],
   "source": [
    "# Evaluation\n",
    "def evaluate_model(model, loader):\n",
    "    model.eval()\n",
    "    correct = 0\n",
    "    with torch.no_grad():\n",
    "        for images, labels in loader:\n",
    "            images, labels = images.to(DEVICE), labels.to(DEVICE)\n",
    "            outputs = model(images)\n",
    "            _, preds = torch.max(outputs, 1)\n",
    "            correct += (preds == labels).sum().item()\n",
    "\n",
    "    acc = correct / len(loader.dataset) * 100\n",
    "    print(f\"\\nTest Accuracy: {acc:.2f}%\")\n"
   ]
  },
  {
   "cell_type": "code",
   "execution_count": null,
   "id": "7aae0e1f",
   "metadata": {},
   "outputs": [],
   "source": [
    "# Run training and evaluation\n",
    "train_model(model, train_loader)\n",
    "evaluate_model(model, test_loader)"
   ]
  },
  {
   "cell_type": "markdown",
   "id": "9bc4c603",
   "metadata": {},
   "source": [
    "Epoch [1/10] Loss: 425.85 | Train Acc: 62.73%\n",
    "\n",
    "Epoch [2/10] Loss: 130.60 | Train Acc: 88.80%\n",
    "\n",
    "Epoch [3/10] Loss: 84.41 | Train Acc: 92.51%\n",
    "\n",
    "Epoch [4/10] Loss: 64.48 | Train Acc: 93.85%\n",
    "\n",
    "Epoch [5/10] Loss: 50.96 | Train Acc: 95.16%\n",
    "\n",
    "Epoch [6/10] Loss: 41.79 | Train Acc: 96.12%\n",
    "\n",
    "Epoch [7/10] Loss: 34.79 | Train Acc: 97.10%\n",
    "\n",
    "Epoch [8/10] Loss: 30.16 | Train Acc: 97.40%\n",
    "\n",
    "Epoch [9/10] Loss: 26.60 | Train Acc: 97.70%\n",
    "\n",
    "Epoch [10/10] Loss: 24.10 | Train Acc: 97.79%\n",
    "\n",
    "\n",
    "Test Accuracy: 90.16%"
   ]
  }
 ],
 "metadata": {
  "language_info": {
   "name": "python"
  }
 },
 "nbformat": 4,
 "nbformat_minor": 5
}
